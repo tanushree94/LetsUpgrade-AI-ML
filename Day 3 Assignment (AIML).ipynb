{
 "cells": [
  {
   "cell_type": "code",
   "execution_count": 1,
   "metadata": {},
   "outputs": [
    {
     "name": "stdout",
     "output_type": "stream",
     "text": [
      "Subtraction of a and b is= (1-2j)\n"
     ]
    }
   ],
   "source": [
    "# Question 1: Subtract two complex numbers\n",
    "a=2+3j\n",
    "b=1+5j\n",
    "c=a-b\n",
    "print(\"Subtraction of a and b is=\",c)"
   ]
  },
  {
   "cell_type": "code",
   "execution_count": 6,
   "metadata": {},
   "outputs": [
    {
     "name": "stdout",
     "output_type": "stream",
     "text": [
      "Fourth root of 81 is= 3\n"
     ]
    }
   ],
   "source": [
    "# Question 2: Find fourth root of a number\n",
    "a=81\n",
    "b=int(a**(1/4))\n",
    "print(\"Fourth root of 81 is=\",b)"
   ]
  },
  {
   "cell_type": "code",
   "execution_count": 16,
   "metadata": {},
   "outputs": [
    {
     "name": "stdout",
     "output_type": "stream",
     "text": [
      "a= 33\n",
      "b= 23\n"
     ]
    }
   ],
   "source": [
    "# Question 3: Swap two numbers with the help of a temporary variable\n",
    "a=23\n",
    "b=33\n",
    "temp=a\n",
    "a=b\n",
    "b=temp\n",
    "print(\"a=\",a)\n",
    "print(\"b=\",b)"
   ]
  },
  {
   "cell_type": "code",
   "execution_count": 17,
   "metadata": {},
   "outputs": [
    {
     "name": "stdout",
     "output_type": "stream",
     "text": [
      "a= 33\n",
      "b= 23\n"
     ]
    }
   ],
   "source": [
    "# Question 4: Swap two numbers without the help of a temporary variable\n",
    "a=23\n",
    "b=33\n",
    "a,b=b,a\n",
    "print(\"a=\",a)\n",
    "print(\"b=\",b)"
   ]
  },
  {
   "cell_type": "code",
   "execution_count": 20,
   "metadata": {},
   "outputs": [
    {
     "name": "stdout",
     "output_type": "stream",
     "text": [
      "Temperature in farenheit= 32 F\n",
      "Temperature in Celsius= 0.0 C\n",
      "Temperature in Kelvin= 273.15 K\n"
     ]
    }
   ],
   "source": [
    "# Question 5: Convert Fahrenheit to kelvin and celsius both.\n",
    "a=32\n",
    "print(\"Temperature in farenheit=\",a,\"F\")\n",
    "b=(a-32)*5/9\n",
    "print(\"Temperature in Celsius=\",b,\"C\")\n",
    "c=(a-32)*5/9+273.15\n",
    "print(\"Temperature in Kelvin=\",c,\"K\")"
   ]
  },
  {
   "cell_type": "code",
   "execution_count": 33,
   "metadata": {},
   "outputs": [
    {
     "name": "stdout",
     "output_type": "stream",
     "text": [
      "The data type of 'a' is <class 'int'>\n",
      "The data type of 'b' is <class 'float'>\n",
      "The data type of 'x' is <class 'complex'>\n",
      "The data type of 'y' is <class 'bool'>\n",
      "The data type of 'c' is <class 'str'>\n",
      "The data type of 'd' is <class 'list'>\n",
      "The data type of 'e' is <class 'tuple'>\n",
      "The data type of 'f' is <class 'dict'>\n"
     ]
    }
   ],
   "source": [
    "# Qustion 6: Deminstrate all the data types in Python.\n",
    "a=2\n",
    "b=2.1\n",
    "x=2+3j\n",
    "y= True\n",
    "c=\"Tanushree\"\n",
    "d=[1,2]\n",
    "e=(1,2)\n",
    "f={\"a\":\"Apple\",\"b\":\"Banana\"}\n",
    "print(\"The data type of 'a' is\",type(a))\n",
    "print(\"The data type of 'b' is\",type(b))\n",
    "print(\"The data type of 'x' is\",type(x))\n",
    "print(\"The data type of 'y' is\",type(y))\n",
    "print(\"The data type of 'c' is\",type(c))\n",
    "print(\"The data type of 'd' is\",type(d))\n",
    "print(\"The data type of 'e' is\",type(e))\n",
    "print(\"The data type of 'f' is\",type(f))"
   ]
  },
  {
   "cell_type": "code",
   "execution_count": null,
   "metadata": {},
   "outputs": [],
   "source": []
  }
 ],
 "metadata": {
  "kernelspec": {
   "display_name": "Python 3",
   "language": "python",
   "name": "python3"
  },
  "language_info": {
   "codemirror_mode": {
    "name": "ipython",
    "version": 3
   },
   "file_extension": ".py",
   "mimetype": "text/x-python",
   "name": "python",
   "nbconvert_exporter": "python",
   "pygments_lexer": "ipython3",
   "version": "3.6.5"
  }
 },
 "nbformat": 4,
 "nbformat_minor": 2
}
