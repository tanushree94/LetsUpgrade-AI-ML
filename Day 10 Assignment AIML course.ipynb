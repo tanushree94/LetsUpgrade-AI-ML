{
 "cells": [
  {
   "cell_type": "code",
   "execution_count": 13,
   "metadata": {},
   "outputs": [
    {
     "name": "stdout",
     "output_type": "stream",
     "text": [
      "[False False False]\n",
      "[False False False]\n",
      "[ True  True  True]\n",
      "[ True  True  True]\n"
     ]
    }
   ],
   "source": [
    "# Question 1: Create an element-wise comparison (greater, greater_equal, less and less_equal) of two given arrays\n",
    "\n",
    "import numpy as np\n",
    "array1=np.array([1,2,3])\n",
    "array2=np.array([4,5,6])\n",
    "print(np.greater(array1,array2))\n",
    "print(np.greater_equal(array1,array2))\n",
    "print(np.less(array1,array2))\n",
    "print(np.less_equal(array1,array2))"
   ]
  },
  {
   "cell_type": "code",
   "execution_count": 14,
   "metadata": {},
   "outputs": [
    {
     "name": "stdout",
     "output_type": "stream",
     "text": [
      "[0. 0. 0. 0. 0. 0. 0. 0. 0. 0.]\n",
      "[1. 1. 1. 1. 1. 1. 1. 1. 1. 1.]\n",
      "[5. 5. 5. 5. 5. 5. 5. 5. 5. 5.]\n"
     ]
    }
   ],
   "source": [
    "# Question 2: Write a NumPy program to create an array of 10 zeros,10 ones, 10 fives\n",
    "\n",
    "array=np.zeros(10)\n",
    "print(array)\n",
    "array=np.ones(10)\n",
    "print(array)\n",
    "array=np.ones(10)*5\n",
    "print(array)"
   ]
  },
  {
   "cell_type": "code",
   "execution_count": 24,
   "metadata": {},
   "outputs": [
    {
     "name": "stdout",
     "output_type": "stream",
     "text": [
      "21\n",
      "[5 7 9]\n",
      "[ 6 15]\n"
     ]
    }
   ],
   "source": [
    "# Question 3: Write a NumPy program to compute sum of all elements, sum of each column and sum of each row of a given array\n",
    "\n",
    "array1=np.array([[1,2,3],[4,5,6]])\n",
    "print(np.sum(array1))\n",
    "print(np.sum(array1,axis=0))\n",
    "print(np.sum(array1,axis=1))"
   ]
  },
  {
   "cell_type": "code",
   "execution_count": 27,
   "metadata": {},
   "outputs": [
    {
     "name": "stdout",
     "output_type": "stream",
     "text": [
      "111\n",
      "3080\n",
      "0.9821428571428571\n"
     ]
    }
   ],
   "source": [
    "# Question 4: Write a NumPy program to add, subtract, multiply, divide arguments element-wise.\n",
    "\n",
    "print(np.add(55,56))\n",
    "print(np.multiply(55,56))\n",
    "print(np.divide(55,56))"
   ]
  },
  {
   "cell_type": "code",
   "execution_count": 30,
   "metadata": {
    "scrolled": true
   },
   "outputs": [
    {
     "name": "stdout",
     "output_type": "stream",
     "text": [
      "[0.01745241 0.0348995  0.05233596]\n",
      "[0.9998477  0.99939083 0.99862953]\n",
      "[0.01745506 0.03492077 0.05240778]\n"
     ]
    }
   ],
   "source": [
    "# Question 5: Write a NumPy program to compute the trigonometric sine, cosine and tangent array of angles given in degree.\n",
    "\n",
    "print(np.sin(np.array((1,2,3))*np.pi/180))\n",
    "print(np.cos(np.array((1,2,3))*np.pi/180))\n",
    "print(np.tan(np.array((1,2,3))*np.pi/180))"
   ]
  },
  {
   "cell_type": "code",
   "execution_count": 1,
   "metadata": {},
   "outputs": [
    {
     "name": "stdout",
     "output_type": "stream",
     "text": [
      "Requirement already satisfied: pandas in c:\\users\\acer\\anaconda3\\lib\\site-packages (0.23.0)\n",
      "Requirement already satisfied: numpy>=1.9.0 in c:\\users\\acer\\anaconda3\\lib\\site-packages (from pandas) (1.14.3)\n",
      "Requirement already satisfied: python-dateutil>=2.5.0 in c:\\users\\acer\\anaconda3\\lib\\site-packages (from pandas) (2.7.3)\n",
      "Requirement already satisfied: pytz>=2011k in c:\\users\\acer\\anaconda3\\lib\\site-packages (from pandas) (2018.4)\n",
      "Requirement already satisfied: six>=1.5 in c:\\users\\acer\\anaconda3\\lib\\site-packages (from python-dateutil>=2.5.0->pandas) (1.11.0)\n"
     ]
    },
    {
     "name": "stderr",
     "output_type": "stream",
     "text": [
      "distributed 1.21.8 requires msgpack, which is not installed.\n",
      "You are using pip version 10.0.1, however version 20.2.3 is available.\n",
      "You should consider upgrading via the 'python -m pip install --upgrade pip' command.\n"
     ]
    }
   ],
   "source": [
    "!pip install pandas"
   ]
  },
  {
   "cell_type": "code",
   "execution_count": 4,
   "metadata": {},
   "outputs": [
    {
     "name": "stdout",
     "output_type": "stream",
     "text": [
      "        name  score  attempts qualify\n",
      "1  Tanushree   88.0         1     yes\n",
      "2       Tina   91.0         1     yes\n",
      "3       Mani   33.5         3      no\n",
      "4  Mahasweta   77.0         1     yes\n",
      "5   Srinivas    NaN         2      no\n",
      "6   Jonathan   46.0         3     yes\n"
     ]
    }
   ],
   "source": [
    "# Question 6: Write a Pandas program to create and display a DataFrame from a specified dictionary data which has the index labels\n",
    "\n",
    "import numpy as np\n",
    "import pandas as pd\n",
    "exam_data  = {'name': ['Tanushree', 'Tina', 'Mani', 'Mahasweta', 'Srinivas','Jonathan'],\n",
    "        'score': [88, 91, 33.5, 77, np.nan, 46],\n",
    "        'attempts': [1, 1, 3, 1, 2, 3],\n",
    "        'qualify': ['yes', 'yes', 'no', 'yes', 'no', 'yes']}\n",
    "labels = ['1', '2', '3', '4', '5', '6']\n",
    "f = pd.DataFrame(exam_data , index=labels)\n",
    "print(f)"
   ]
  },
  {
   "cell_type": "code",
   "execution_count": 11,
   "metadata": {},
   "outputs": [
    {
     "name": "stdout",
     "output_type": "stream",
     "text": [
      "        name  score\n",
      "1  Tanushree   88.0\n",
      "2       Tina   91.0\n",
      "3       Mani   33.5\n",
      "4  Mahasweta   77.0\n",
      "5   Srinivas    NaN\n",
      "6   Jonathan   46.0\n"
     ]
    }
   ],
   "source": [
    "# Question 7: Write a Pandas program to select the 'name' and 'score' columns from the following DataFrame.\n",
    "\n",
    "exam_data  = {'name': ['Tanushree', 'Tina', 'Mani', 'Mahasweta', 'Srinivas','Jonathan'],\n",
    "        'score': [88, 91, 33.5, 77, np.nan, 46],\n",
    "        'attempts': [1, 1, 3, 1, 2, 3],\n",
    "        'qualify': ['yes', 'yes', 'no', 'yes', 'no', 'yes']}\n",
    "labels = ['1', '2', '3', '4', '5', '6']\n",
    "f = pd.DataFrame(exam_data , index=labels)\n",
    "print(f[['name','score']])"
   ]
  },
  {
   "cell_type": "code",
   "execution_count": 7,
   "metadata": {},
   "outputs": [
    {
     "name": "stdout",
     "output_type": "stream",
     "text": [
      "{'name': ['Tanushree', 'Tina', 'Mani', 'Mahasweta', 'Srinivas', 'Jonathan'], 'score': [88, 91, 33.5, 77, nan, 46], 'attempts': [1, 1, 3, 1, 2, 3], 'qualify': ['yes', 'yes', 'no', 'yes', 'no', 'yes']}\n",
      "{'name': ['Billy', 'Carina', 'Justin', 'Tim', 'Kishore', 'Sai'], 'score': [78, 87, 56.7, 70, 63, 54], 'attempts': [1, 1, 2, 1, 1, 3], 'qualify': ['yes', 'yes', 'yes', 'yes', 'yes', 'yes']}\n"
     ]
    },
    {
     "ename": "TypeError",
     "evalue": "cannot concatenate object of type \"<class 'dict'>\"; only pd.Series, pd.DataFrame, and pd.Panel (deprecated) objs are valid",
     "output_type": "error",
     "traceback": [
      "\u001b[1;31m---------------------------------------------------------------------------\u001b[0m",
      "\u001b[1;31mTypeError\u001b[0m                                 Traceback (most recent call last)",
      "\u001b[1;32m<ipython-input-7-d05c17189998>\u001b[0m in \u001b[0;36m<module>\u001b[1;34m()\u001b[0m\n\u001b[0;32m     12\u001b[0m \u001b[0mprint\u001b[0m\u001b[1;33m(\u001b[0m\u001b[0mexam_data1\u001b[0m\u001b[1;33m)\u001b[0m\u001b[1;33m\u001b[0m\u001b[0m\n\u001b[0;32m     13\u001b[0m \u001b[0mprint\u001b[0m\u001b[1;33m(\u001b[0m\u001b[0mexam_data2\u001b[0m\u001b[1;33m)\u001b[0m\u001b[1;33m\u001b[0m\u001b[0m\n\u001b[1;32m---> 14\u001b[1;33m \u001b[0mtotaldata\u001b[0m\u001b[1;33m=\u001b[0m\u001b[0mpd\u001b[0m\u001b[1;33m.\u001b[0m\u001b[0mconcat\u001b[0m\u001b[1;33m(\u001b[0m\u001b[1;33m[\u001b[0m\u001b[0mexam_data1\u001b[0m\u001b[1;33m,\u001b[0m\u001b[0mexam_data2\u001b[0m\u001b[1;33m]\u001b[0m\u001b[1;33m)\u001b[0m\u001b[1;33m\u001b[0m\u001b[0m\n\u001b[0m\u001b[0;32m     15\u001b[0m \u001b[0mprrint\u001b[0m\u001b[1;33m(\u001b[0m\u001b[0mtotaldata\u001b[0m\u001b[1;33m)\u001b[0m\u001b[1;33m\u001b[0m\u001b[0m\n",
      "\u001b[1;32m~\\Anaconda3\\lib\\site-packages\\pandas\\core\\reshape\\concat.py\u001b[0m in \u001b[0;36mconcat\u001b[1;34m(objs, axis, join, join_axes, ignore_index, keys, levels, names, verify_integrity, sort, copy)\u001b[0m\n\u001b[0;32m    223\u001b[0m                        \u001b[0mkeys\u001b[0m\u001b[1;33m=\u001b[0m\u001b[0mkeys\u001b[0m\u001b[1;33m,\u001b[0m \u001b[0mlevels\u001b[0m\u001b[1;33m=\u001b[0m\u001b[0mlevels\u001b[0m\u001b[1;33m,\u001b[0m \u001b[0mnames\u001b[0m\u001b[1;33m=\u001b[0m\u001b[0mnames\u001b[0m\u001b[1;33m,\u001b[0m\u001b[1;33m\u001b[0m\u001b[0m\n\u001b[0;32m    224\u001b[0m                        \u001b[0mverify_integrity\u001b[0m\u001b[1;33m=\u001b[0m\u001b[0mverify_integrity\u001b[0m\u001b[1;33m,\u001b[0m\u001b[1;33m\u001b[0m\u001b[0m\n\u001b[1;32m--> 225\u001b[1;33m                        copy=copy, sort=sort)\n\u001b[0m\u001b[0;32m    226\u001b[0m     \u001b[1;32mreturn\u001b[0m \u001b[0mop\u001b[0m\u001b[1;33m.\u001b[0m\u001b[0mget_result\u001b[0m\u001b[1;33m(\u001b[0m\u001b[1;33m)\u001b[0m\u001b[1;33m\u001b[0m\u001b[0m\n\u001b[0;32m    227\u001b[0m \u001b[1;33m\u001b[0m\u001b[0m\n",
      "\u001b[1;32m~\\Anaconda3\\lib\\site-packages\\pandas\\core\\reshape\\concat.py\u001b[0m in \u001b[0;36m__init__\u001b[1;34m(self, objs, axis, join, join_axes, keys, levels, names, ignore_index, verify_integrity, copy, sort)\u001b[0m\n\u001b[0;32m    284\u001b[0m                        \u001b[1;34m' only pd.Series, pd.DataFrame, and pd.Panel'\u001b[0m\u001b[1;33m\u001b[0m\u001b[0m\n\u001b[0;32m    285\u001b[0m                        ' (deprecated) objs are valid'.format(type(obj)))\n\u001b[1;32m--> 286\u001b[1;33m                 \u001b[1;32mraise\u001b[0m \u001b[0mTypeError\u001b[0m\u001b[1;33m(\u001b[0m\u001b[0mmsg\u001b[0m\u001b[1;33m)\u001b[0m\u001b[1;33m\u001b[0m\u001b[0m\n\u001b[0m\u001b[0;32m    287\u001b[0m \u001b[1;33m\u001b[0m\u001b[0m\n\u001b[0;32m    288\u001b[0m             \u001b[1;31m# consolidate\u001b[0m\u001b[1;33m\u001b[0m\u001b[1;33m\u001b[0m\u001b[0m\n",
      "\u001b[1;31mTypeError\u001b[0m: cannot concatenate object of type \"<class 'dict'>\"; only pd.Series, pd.DataFrame, and pd.Panel (deprecated) objs are valid"
     ]
    }
   ],
   "source": [
    "# Question 8: Write a Pandas program to join the two given dataframes along rows and assign all data\n",
    "\n",
    "exam_data1  = {'name': ['Tanushree', 'Tina', 'Mani', 'Mahasweta', 'Srinivas','Jonathan'],\n",
    "        'score': [88, 91, 33.5, 77, np.nan, 46],\n",
    "        'attempts': [1, 1, 3, 1, 2, 3],\n",
    "        'qualify': ['yes', 'yes', 'no', 'yes', 'no', 'yes']}\n",
    "exam_data2  = {'name': ['Billy', 'Carina', 'Justin', 'Tim', 'Kishore','Sai'],\n",
    "        'score': [78, 87, 56.7, 70, 63, 54],\n",
    "        'attempts': [1, 1, 2, 1, 1, 3],\n",
    "        'qualify': ['yes', 'yes', 'yes', 'yes', 'yes', 'yes']}\n",
    "\n",
    "print(exam_data1)\n",
    "print(exam_data2)\n",
    "totaldata=pd.concat([exam_data1,exam_data2])\n",
    "prrint(totaldata)"
   ]
  },
  {
   "cell_type": "code",
   "execution_count": 18,
   "metadata": {},
   "outputs": [
    {
     "name": "stdout",
     "output_type": "stream",
     "text": [
      "        name  score  attempts qualify\n",
      "0  Tanushree   88.0         1     yes\n",
      "1       Tina   91.0         1     yes\n",
      "2       Mani   33.5         3      no\n",
      "3  Mahasweta   77.0         1     yes\n",
      "4   Srinivas    NaN         2      no\n",
      "5   Jonathan   46.0         3     yes\n",
      "    name  score  attempts  qualify\n",
      "0  False  False     False    False\n",
      "1  False  False     False    False\n",
      "2  False  False     False    False\n",
      "3  False  False     False    False\n",
      "4  False   True     False    False\n",
      "5  False  False     False    False\n"
     ]
    }
   ],
   "source": [
    "# Question 9: Write a Pandas program to detect missing values of a given DataFrame. Display True or False\n",
    "\n",
    "exam_data1  = {'name': ['Tanushree', 'Tina', 'Mani', 'Mahasweta', 'Srinivas','Jonathan'],\n",
    "        'score': [88, 91, 33.5, 77, np.nan, 46],\n",
    "        'attempts': [1, 1, 3, 1, 2, 3],\n",
    "        'qualify': ['yes', 'yes', 'no', 'yes', 'no', 'yes']}\n",
    "f = pd.DataFrame(exam_data)\n",
    "print(f)\n",
    "print(f.isna())"
   ]
  },
  {
   "cell_type": "code",
   "execution_count": 20,
   "metadata": {},
   "outputs": [
    {
     "name": "stdout",
     "output_type": "stream",
     "text": [
      "0    1\n",
      "1    2\n",
      "2    3\n",
      "3    4\n",
      "4    5\n",
      "5    6\n",
      "dtype: int64\n"
     ]
    }
   ],
   "source": [
    "# Question 10: Write a Pandas program to create and display a one-dimensional array-like object containing an array of data.\n",
    "\n",
    "array=pd.Series([1,2,3,4,5,6])\n",
    "print(array)"
   ]
  }
 ],
 "metadata": {
  "kernelspec": {
   "display_name": "Python 3",
   "language": "python",
   "name": "python3"
  },
  "language_info": {
   "codemirror_mode": {
    "name": "ipython",
    "version": 3
   },
   "file_extension": ".py",
   "mimetype": "text/x-python",
   "name": "python",
   "nbconvert_exporter": "python",
   "pygments_lexer": "ipython3",
   "version": "3.6.5"
  }
 },
 "nbformat": 4,
 "nbformat_minor": 2
}
