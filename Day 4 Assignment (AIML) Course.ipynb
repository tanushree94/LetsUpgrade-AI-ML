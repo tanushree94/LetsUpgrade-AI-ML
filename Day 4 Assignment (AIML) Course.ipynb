{
 "cells": [
  {
   "cell_type": "code",
   "execution_count": 3,
   "metadata": {},
   "outputs": [
    {
     "name": "stdout",
     "output_type": "stream",
     "text": [
      "(3+5j)\n",
      "(-4+7j)\n",
      "(0.6153846153846154+0.07692307692307691j)\n"
     ]
    }
   ],
   "source": [
    "## Question 1: Research on whether addition, subtraction, multiplication, division, floor division, and modulo operations on complex numbers.\n",
    "a= 1+2j\n",
    "b= 2+3j\n",
    "c= a+b\n",
    "d= a*b\n",
    "e= a/b\n",
    "print(c)\n",
    "print(d)\n",
    "print(e)\n",
    "## we cannot perform floor division and module operation on complex numbers. "
   ]
  },
  {
   "cell_type": "code",
   "execution_count": 5,
   "metadata": {},
   "outputs": [
    {
     "ename": "TypeError",
     "evalue": "can't take floor of complex number.",
     "output_type": "error",
     "traceback": [
      "\u001b[1;31m---------------------------------------------------------------------------\u001b[0m",
      "\u001b[1;31mTypeError\u001b[0m                                 Traceback (most recent call last)",
      "\u001b[1;32m<ipython-input-5-d00439a09080>\u001b[0m in \u001b[0;36m<module>\u001b[1;34m()\u001b[0m\n\u001b[0;32m      2\u001b[0m \u001b[0ma\u001b[0m\u001b[1;33m=\u001b[0m\u001b[1;36m1\u001b[0m\u001b[1;33m+\u001b[0m\u001b[1;36m2j\u001b[0m\u001b[1;33m\u001b[0m\u001b[0m\n\u001b[0;32m      3\u001b[0m \u001b[0mb\u001b[0m\u001b[1;33m=\u001b[0m\u001b[1;36m2\u001b[0m\u001b[1;33m+\u001b[0m\u001b[1;36m3j\u001b[0m\u001b[1;33m\u001b[0m\u001b[0m\n\u001b[1;32m----> 4\u001b[1;33m \u001b[0mc\u001b[0m\u001b[1;33m=\u001b[0m \u001b[0ma\u001b[0m\u001b[1;33m//\u001b[0m\u001b[0mb\u001b[0m\u001b[1;33m\u001b[0m\u001b[0m\n\u001b[0m\u001b[0;32m      5\u001b[0m \u001b[0mprint\u001b[0m\u001b[1;33m(\u001b[0m\u001b[0mc\u001b[0m\u001b[1;33m)\u001b[0m\u001b[1;33m\u001b[0m\u001b[0m\n",
      "\u001b[1;31mTypeError\u001b[0m: can't take floor of complex number."
     ]
    }
   ],
   "source": [
    "# Reasearch of floor division on complex numbers.\n",
    "a=1+2j\n",
    "b=2+3j\n",
    "c= a//b\n",
    "print(c)\n",
    "\"\"\"\" It will throw TypeError as Python cannot take floor operation on complex numbers \"\"\"\""
   ]
  },
  {
   "cell_type": "code",
   "execution_count": 6,
   "metadata": {
    "scrolled": true
   },
   "outputs": [
    {
     "ename": "TypeError",
     "evalue": "can't mod complex numbers.",
     "output_type": "error",
     "traceback": [
      "\u001b[1;31m---------------------------------------------------------------------------\u001b[0m",
      "\u001b[1;31mTypeError\u001b[0m                                 Traceback (most recent call last)",
      "\u001b[1;32m<ipython-input-6-cd313cee28ed>\u001b[0m in \u001b[0;36m<module>\u001b[1;34m()\u001b[0m\n\u001b[0;32m      2\u001b[0m \u001b[0ma\u001b[0m\u001b[1;33m=\u001b[0m\u001b[1;36m1\u001b[0m\u001b[1;33m+\u001b[0m\u001b[1;36m2j\u001b[0m\u001b[1;33m\u001b[0m\u001b[0m\n\u001b[0;32m      3\u001b[0m \u001b[0mb\u001b[0m\u001b[1;33m=\u001b[0m\u001b[1;36m2\u001b[0m\u001b[1;33m+\u001b[0m\u001b[1;36m3j\u001b[0m\u001b[1;33m\u001b[0m\u001b[0m\n\u001b[1;32m----> 4\u001b[1;33m \u001b[0mc\u001b[0m\u001b[1;33m=\u001b[0m \u001b[0ma\u001b[0m\u001b[1;33m%\u001b[0m\u001b[0mb\u001b[0m\u001b[1;33m\u001b[0m\u001b[0m\n\u001b[0m\u001b[0;32m      5\u001b[0m \u001b[0mprint\u001b[0m\u001b[1;33m(\u001b[0m\u001b[0mc\u001b[0m\u001b[1;33m)\u001b[0m\u001b[1;33m\u001b[0m\u001b[0m\n",
      "\u001b[1;31mTypeError\u001b[0m: can't mod complex numbers."
     ]
    }
   ],
   "source": [
    "# Research on module operation on the complex numbers.\n",
    "a=1+2j\n",
    "b=2+3j\n",
    "c= a%b\n",
    "print(c)\n",
    "** Python cannot d module opration on complex numbers. Module operation prints the remainder of the two numbers when divided **"
   ]
  },
  {
   "cell_type": "markdown",
   "metadata": {},
   "source": [
    "# Question2: Research on range() function\n",
    "__Range() Function:\n",
    "* This function returns the values in the specified range. It starts with the given starting value and traverses till the given end value. But the range() function always gives value 1 less the upper limit given.\n",
    "For example:\n",
    "l=[1,2,3,4,5]\n",
    "for i in range(5):\n",
    "    print(i)\n",
    "Output- 1,2,3,4 --> '5' is not printed as the range function always gives the value one before the set upper limit.\n",
    "* It can also traverse by the given step size\n",
    "for example:\n",
    "l=[1,2,3,4,5,6,7,8,9,10]   \n",
    "for i in range(1,11,2)\n",
    "Output- 1,3,5,7,9 ------>\n",
    "Here 1 is the starting value, '11' is the end point and '2' is the step size. This means it will from 1 and travel till the last number but it will take 2 steps and then print the next character."
   ]
  },
  {
   "cell_type": "code",
   "execution_count": 4,
   "metadata": {},
   "outputs": [
    {
     "name": "stdout",
     "output_type": "stream",
     "text": [
      "1 2 3 1\n",
      "3\n",
      "5\n",
      "7\n",
      "9\n",
      "0 1 2 3 4 5 6 "
     ]
    }
   ],
   "source": [
    "# Question 2: Short programs on Range() function.\n",
    "l=[1,2,3,4]\n",
    "for i in range(1,4):\n",
    "    print(i,end=\" \")\n",
    "s=[1,2,3,4,5,6,7,8,9,10]\n",
    "for i in range(1,11,2):\n",
    "    print(i)\n",
    "x=[6,7,8,9,10,11,12]\n",
    "for i in range(7):\n",
    "    print(i,end=\" \")"
   ]
  },
  {
   "cell_type": "code",
   "execution_count": 10,
   "metadata": {},
   "outputs": [
    {
     "name": "stdout",
     "output_type": "stream",
     "text": [
      "Result= 2047\n"
     ]
    }
   ],
   "source": [
    "\"\"\" Question 3: Consider two numbers. Perform their subtraction and if the result of subtraction is greater than 25, \n",
    "print their multiplication result else print their division result. \"\"\"\n",
    "a= 89\n",
    "b= 23\n",
    "c=a-b\n",
    "if(c >25):\n",
    "    print(\"Result=\",a*b)\n",
    "elif(c<25):\n",
    "    print(\"Result=\",a/b)"
   ]
  },
  {
   "cell_type": "code",
   "execution_count": 2,
   "metadata": {},
   "outputs": [
    {
     "name": "stdout",
     "output_type": "stream",
     "text": [
      "2 14 34 62 98 "
     ]
    }
   ],
   "source": [
    "\"\"\" Question 4: Consider a list of 10 elements of integer values. If the number in the list is divisible by 2, \n",
    "print the result as 'square of that number minus 2'. \"\"\"\n",
    "a=[1,2,3,4,5,6,7,8,9,10]\n",
    "for i in a:\n",
    "    if(i%2==0):\n",
    "        print((i**2)-2,end=\" \")"
   ]
  },
  {
   "cell_type": "code",
   "execution_count": 1,
   "metadata": {},
   "outputs": [
    {
     "name": "stdout",
     "output_type": "stream",
     "text": [
      "28 34 "
     ]
    }
   ],
   "source": [
    "\"\"\"Question 5:\n",
    "Consider a list of 10 elements. Print all the elements in the list which are greater than 7 when that number\n",
    "is divided 2.\"\"\"\n",
    "a=[3,4,5,6,7,8,9,10,11,12,28,34]\n",
    "for i in a:\n",
    "    if((i/2)>=7):\n",
    "        print(i,end=\" \")"
   ]
  },
  {
   "cell_type": "code",
   "execution_count": null,
   "metadata": {},
   "outputs": [],
   "source": []
  }
 ],
 "metadata": {
  "kernelspec": {
   "display_name": "Python 3",
   "language": "python",
   "name": "python3"
  },
  "language_info": {
   "codemirror_mode": {
    "name": "ipython",
    "version": 3
   },
   "file_extension": ".py",
   "mimetype": "text/x-python",
   "name": "python",
   "nbconvert_exporter": "python",
   "pygments_lexer": "ipython3",
   "version": "3.6.5"
  }
 },
 "nbformat": 4,
 "nbformat_minor": 2
}
