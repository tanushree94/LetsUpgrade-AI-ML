{
 "cells": [
  {
   "cell_type": "code",
   "execution_count": 5,
   "metadata": {},
   "outputs": [
    {
     "name": "stdout",
     "output_type": "stream",
     "text": [
      "[3, 7, 12, 18]\n"
     ]
    }
   ],
   "source": [
    "# Question 1: Recreate “NB 21 map, filter, lambda.ipynb” to try different variations or perform different calculations from the ones that are in the NB\n",
    "\n",
    "def mult(a,b):\n",
    "    return(int((a*b)/2))\n",
    "print(list(map(mult,[1,2,3,4],[6,7,8,9])))"
   ]
  },
  {
   "cell_type": "code",
   "execution_count": 8,
   "metadata": {},
   "outputs": [
    {
     "name": "stdout",
     "output_type": "stream",
     "text": [
      "(1,)\n"
     ]
    }
   ],
   "source": [
    "def mod(a,b,c):\n",
    "    return(int(a/b)%c)\n",
    "print(tuple(map(mod,[i for i in range(2,11)],[2,4,6,8],[2])))"
   ]
  },
  {
   "cell_type": "code",
   "execution_count": 11,
   "metadata": {},
   "outputs": [
    {
     "data": {
      "text/plain": [
       "12"
      ]
     },
     "execution_count": 11,
     "metadata": {},
     "output_type": "execute_result"
    }
   ],
   "source": [
    "p=lambda a,b:(2*a)*b\n",
    "p(2,3)"
   ]
  },
  {
   "cell_type": "code",
   "execution_count": 13,
   "metadata": {},
   "outputs": [
    {
     "data": {
      "text/plain": [
       "9"
      ]
     },
     "execution_count": 13,
     "metadata": {},
     "output_type": "execute_result"
    }
   ],
   "source": [
    "x=lambda c,d,e:3*c+d*d*+e%3\n",
    "x(3,4,81)    "
   ]
  },
  {
   "cell_type": "code",
   "execution_count": 14,
   "metadata": {},
   "outputs": [
    {
     "name": "stdout",
     "output_type": "stream",
     "text": [
      "[1, 8, 27, 64]\n"
     ]
    }
   ],
   "source": [
    "q=print(list(map(lambda a:a**3,[1,2,3,4])))"
   ]
  },
  {
   "cell_type": "code",
   "execution_count": 15,
   "metadata": {},
   "outputs": [
    {
     "name": "stdout",
     "output_type": "stream",
     "text": [
      "[51, 60, 33]\n"
     ]
    }
   ],
   "source": [
    "r=print(list(map(lambda a,b,c:a*2+3*b+4*c,[2,3,4],[5,6,7],[8,9,1])))"
   ]
  },
  {
   "cell_type": "code",
   "execution_count": 22,
   "metadata": {},
   "outputs": [
    {
     "name": "stdout",
     "output_type": "stream",
     "text": [
      "[2, 3, 5]\n"
     ]
    }
   ],
   "source": [
    "y=print(list(filter(lambda a:a<=5,[2,3,5,6,7])))"
   ]
  },
  {
   "cell_type": "code",
   "execution_count": 63,
   "metadata": {},
   "outputs": [
    {
     "name": "stdout",
     "output_type": "stream",
     "text": [
      "48\n"
     ]
    }
   ],
   "source": [
    "from functools import reduce\n",
    "print(reduce(lambda x,y:x*y,[2,2,3,4]))"
   ]
  },
  {
   "cell_type": "code",
   "execution_count": 36,
   "metadata": {},
   "outputs": [
    {
     "name": "stdout",
     "output_type": "stream",
     "text": [
      "[16, 25, 36]\n"
     ]
    }
   ],
   "source": [
    "print(list(map(lambda x:x**2, filter(lambda x:x>3,[3,4,5,6]))))"
   ]
  },
  {
   "cell_type": "code",
   "execution_count": 46,
   "metadata": {},
   "outputs": [
    {
     "name": "stdout",
     "output_type": "stream",
     "text": [
      "[4, 6, 8, 10]\n"
     ]
    }
   ],
   "source": [
    "print(list(filter(lambda x:x>=4, map(lambda x:x*2,[1,2,3,4,5]))))"
   ]
  },
  {
   "cell_type": "code",
   "execution_count": 59,
   "metadata": {},
   "outputs": [
    {
     "name": "stdout",
     "output_type": "stream",
     "text": [
      "50\n"
     ]
    }
   ],
   "source": [
    "z= reduce(lambda x,y:x+y, map(lambda x:x*x,filter(lambda x:x>2,[1,2,3,4,5])))\n",
    "print(z)"
   ]
  },
  {
   "cell_type": "code",
   "execution_count": 66,
   "metadata": {},
   "outputs": [
    {
     "name": "stdout",
     "output_type": "stream",
     "text": [
      "Name:  Tanu Marks  500 Age 15\n",
      "Name:  Tina Marks  550 Age 17\n",
      "Name:  Mahasweta Marks  600 Age 18\n",
      "Total student count 3\n"
     ]
    }
   ],
   "source": [
    "# Question 2: Recreate your own Python NB for “Classes and Objects” from the pdf provided namely “Classes&Objects.pdf”\n",
    "\n",
    "class Student:\n",
    "    studcount=0\n",
    "    def __init__(self,name,marks,age):\n",
    "        self.name=name\n",
    "        self.marks=marks\n",
    "        self.age=age\n",
    "        Student.studcount +=1\n",
    "    def displaycount(self):\n",
    "        print(\"Total Students\",Student.studcount)\n",
    "    def displaystudent(self):\n",
    "        print(\"Name: \",self.name,\"Marks \",self.marks,\"Age\",self.age)\n",
    "std1=Student(\"Tanu\",500,15)\n",
    "std2=Student(\"Tina\",550,17)\n",
    "std3=Student(\"Mahasweta\",600,18)\n",
    "std1.displaystudent()\n",
    "std2.displaystudent()\n",
    "std3.displaystudent()\n",
    "print(\"Total student count\",Student.studcount)"
   ]
  }
 ],
 "metadata": {
  "kernelspec": {
   "display_name": "Python 3",
   "language": "python",
   "name": "python3"
  },
  "language_info": {
   "codemirror_mode": {
    "name": "ipython",
    "version": 3
   },
   "file_extension": ".py",
   "mimetype": "text/x-python",
   "name": "python",
   "nbconvert_exporter": "python",
   "pygments_lexer": "ipython3",
   "version": "3.6.5"
  }
 },
 "nbformat": 4,
 "nbformat_minor": 2
}
