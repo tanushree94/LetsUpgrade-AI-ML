{
 "cells": [
  {
   "cell_type": "code",
   "execution_count": 19,
   "metadata": {
    "scrolled": true
   },
   "outputs": [
    {
     "name": "stdout",
     "output_type": "stream",
     "text": [
      "Enter the email address:tanushree.mukherjee@capgemini.com\n",
      "capgemini"
     ]
    }
   ],
   "source": [
    "#Question 1:Assuming that we have some email addresses in the \"username@companyname.com\" format, please write a program to print the company name of a given email address. \n",
    "\n",
    "email=input(\"Enter the email address:\")\n",
    "x=email.index(\"@\")\n",
    "print(email[x+1:len(email)-4],end='')"
   ]
  },
  {
   "cell_type": "code",
   "execution_count": 1,
   "metadata": {},
   "outputs": [
    {
     "name": "stdout",
     "output_type": "stream",
     "text": [
      "welcome,to,the,world,of,machine,learning\n",
      "learning,machine,of,the,to,welcome,world\n"
     ]
    }
   ],
   "source": [
    "# Question 2:Write a program that accepts a comma-separated sequence of words as input and prints the words in a comma-separated sequence after sorting them alphabetically.\n",
    "\n",
    "x=input().split(',')\n",
    "x.sort()\n",
    "y=','.join(x)\n",
    "print(y)"
   ]
  },
  {
   "cell_type": "code",
   "execution_count": 13,
   "metadata": {},
   "outputs": [
    {
     "name": "stdout",
     "output_type": "stream",
     "text": [
      "{'elephant', 'bat', 'cat', 'dog', 'apple'}\n",
      "{'Bird', 'elephant', 'bat', 'cat', 'dog', 'Mango', 'India', 'apple'}\n",
      "8\n",
      "{'Bird', 'elephant', 'cat', 'dog', 'Mango', 'India', 'apple'}\n",
      "{'elephant', 'cat', 'dog', 'Mango', 'India', 'apple'}\n",
      "{'kolkata', 'Mango', 'cat', 'dog', 'elephant', 'IIT', 'apple', 'India'}\n",
      "True\n",
      "set()\n"
     ]
    }
   ],
   "source": [
    "# Question 3: Create your own Jupyter Notebook for Sets.\n",
    "\n",
    "set1={'apple','bat','cat','dog','elephant'}\n",
    "print(set1)\n",
    "set1.update(['India','Mango','Bird','apple'])\n",
    "print(set1)\n",
    "print(len(set1))\n",
    "set1.remove('bat')\n",
    "print(set1)\n",
    "set1.pop()\n",
    "print(set1)\n",
    "set2={'kolkata','IIT'}\n",
    "set3=set1.union(set2)\n",
    "print(set3)\n",
    "set4=set1.isdisjoint(set2)\n",
    "print(set4)\n",
    "set5=set1.intersection(set2)\n",
    "print(set5)"
   ]
  },
  {
   "cell_type": "code",
   "execution_count": 15,
   "metadata": {},
   "outputs": [
    {
     "name": "stdout",
     "output_type": "stream",
     "text": [
      "1 2 3 4 6 7 8 9 10 \n",
      " 5\n"
     ]
    }
   ],
   "source": [
    "# Question 4: Given a list of n-1 numbers ranging from 1 to n, your task is to find the missing number. There are no duplicates.\n",
    "\n",
    "l=[1,2,3,4,6,7,8,9,10]\n",
    "sum1=0\n",
    "for y in l:\n",
    "    print(y,end=' ')\n",
    "for x in range(0,len(l)):\n",
    "    sum1=sum1+l[x] \n",
    "sumtotal=sum(range(1,11))\n",
    "print('\\n',sumtotal-sum1)"
   ]
  },
  {
   "cell_type": "code",
   "execution_count": 17,
   "metadata": {},
   "outputs": [
    {
     "name": "stdout",
     "output_type": "stream",
     "text": [
      "[1, 2, 3, 4, 5, 6]\n"
     ]
    }
   ],
   "source": [
    "# Question 5: With a given list L, write a program to print this list L after removing all duplicate values with original order\n",
    "\n",
    "l=[1,2,3,1,2,4,5,3,6,5]\n",
    "print(list(set(l)))"
   ]
  },
  {
   "cell_type": "code",
   "execution_count": null,
   "metadata": {},
   "outputs": [],
   "source": []
  }
 ],
 "metadata": {
  "kernelspec": {
   "display_name": "Python 3",
   "language": "python",
   "name": "python3"
  },
  "language_info": {
   "codemirror_mode": {
    "name": "ipython",
    "version": 3
   },
   "file_extension": ".py",
   "mimetype": "text/x-python",
   "name": "python",
   "nbconvert_exporter": "python",
   "pygments_lexer": "ipython3",
   "version": "3.6.5"
  }
 },
 "nbformat": 4,
 "nbformat_minor": 2
}
