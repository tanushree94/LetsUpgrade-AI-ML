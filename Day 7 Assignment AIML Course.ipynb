{
 "cells": [
  {
   "cell_type": "code",
   "execution_count": 20,
   "metadata": {},
   "outputs": [],
   "source": [
    "# Question 1: Write a program to copy the contents of one file to another using a for loop.\n",
    "\n",
    "f=open('kolkata.txt','w')\n",
    "f.write('Welcome to Kolkata!!')\n",
    "f.write('\\nIt is known as the City of Joy.')\n",
    "f.write('\\nThe famous sweets of Kolkata are rasogolla and sondesh.')\n",
    "f.write('\\nAnd we all are now waiting for Durga Puja which in the month of October.')\n",
    "f.write('\\nI work and live in Kolkata.')\n",
    "f.close()"
   ]
  },
  {
   "cell_type": "code",
   "execution_count": 21,
   "metadata": {},
   "outputs": [
    {
     "name": "stdout",
     "output_type": "stream",
     "text": [
      "Welcome to Kolkata!!\n",
      "It is known as the City of Joy.\n",
      "The famous sweets of Kolkata are rasogolla and sondesh.\n",
      "And we all are now waiting for Durga Puja which in the month of October.\n",
      "I work and live in Kolkata.\n"
     ]
    }
   ],
   "source": [
    "f=open('kolkata.txt','r')\n",
    "print(f.read())\n",
    "f.close()"
   ]
  },
  {
   "cell_type": "code",
   "execution_count": 24,
   "metadata": {},
   "outputs": [],
   "source": [
    "with open('kolkata.txt') as f:\n",
    "    with open('copy.txt','w') as f1:\n",
    "        for line in f:\n",
    "            f1.write(line)\n",
    "f.close()\n",
    "f1.close()"
   ]
  },
  {
   "cell_type": "code",
   "execution_count": 26,
   "metadata": {},
   "outputs": [
    {
     "name": "stdout",
     "output_type": "stream",
     "text": [
      "Welcome to Kolkata!!\n",
      "It is known as the City of Joy.\n",
      "The famous sweets of Kolkata are rasogolla and sondesh.\n",
      "And we all are now waiting for Durga Puja which in the month of October.\n",
      "I work and live in Kolkata.\n"
     ]
    }
   ],
   "source": [
    "f1=open('copy.txt','r')\n",
    "print(f1.read())\n",
    "f1.close()"
   ]
  },
  {
   "cell_type": "code",
   "execution_count": 55,
   "metadata": {},
   "outputs": [
    {
     "name": "stdout",
     "output_type": "stream",
     "text": [
      "The min value of the dictionary is 1878\n",
      "The max value of the dictionary is 2020\n"
     ]
    }
   ],
   "source": [
    "# Question 2: Write a Python program to find maximum and minimum values in the dictionary. Do not use built-in min and max functions.\n",
    "\n",
    "d={'2':1994,'1':1878,'4':1992,'3':2020}\n",
    "print(\"The min value of the dictionary is\",sorted(d.values())[0])\n",
    "print(\"The max value of the dictionary is\",sorted(d.values())[-1])"
   ]
  },
  {
   "cell_type": "code",
   "execution_count": null,
   "metadata": {},
   "outputs": [],
   "source": []
  }
 ],
 "metadata": {
  "kernelspec": {
   "display_name": "Python 3",
   "language": "python",
   "name": "python3"
  },
  "language_info": {
   "codemirror_mode": {
    "name": "ipython",
    "version": 3
   },
   "file_extension": ".py",
   "mimetype": "text/x-python",
   "name": "python",
   "nbconvert_exporter": "python",
   "pygments_lexer": "ipython3",
   "version": "3.6.5"
  }
 },
 "nbformat": 4,
 "nbformat_minor": 2
}
