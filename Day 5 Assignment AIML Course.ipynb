{
 "cells": [
  {
   "cell_type": "code",
   "execution_count": 1,
   "metadata": {},
   "outputs": [
    {
     "name": "stdout",
     "output_type": "stream",
     "text": [
      "Enter the lower limit:3\n",
      "Enter the upper limit:75\n",
      "3 5 7 11 13 17 19 23 29 31 37 41 43 47 53 59 61 67 71 73 "
     ]
    }
   ],
   "source": [
    "# Question 1: Write a Python program to find the first 20 non-even prime natural numbers.\n",
    "lower=int(input(\"Enter the lower limit:\"))\n",
    "upper=int(input(\"Enter the upper limit:\"))\n",
    "for i in range(lower,upper+1):\n",
    "    if(i>1):\n",
    "        for j in range(2,i):\n",
    "            if(i%j==0):\n",
    "                break\n",
    "        else:\n",
    "            print(i,end=\" \")"
   ]
  },
  {
   "cell_type": "code",
   "execution_count": 2,
   "metadata": {
    "scrolled": true
   },
   "outputs": [
    {
     "name": "stdout",
     "output_type": "stream",
     "text": [
      "my name is tanushree. i am from kolkata. kolkata is a beautiful city.\n",
      "MY NAME IS TANUSHREE. I AM FROM KOLKATA. KOLKATA IS A BEAUTIFUL CITY.\n",
      "False\n",
      "False\n",
      "True\n",
      "2\n",
      "               My name is Tanushree. I am from Kolkata. Kolkata is a beautiful city.                \n",
      "32\n",
      "My name is Tanu, I'm 26\n",
      "M.y. .n.a.m.e. .i.s. .T.a.n.u.s.h.r.e.e... .I. .a.m. .f.r.o.m. .K.o.l.k.a.t.a... .K.o.l.k.a.t.a. .i.s. .a. .b.e.a.u.t.i.f.u.l. .c.i.t.y..\n",
      "I am from Kolkata. Kolkata is a beautiful city.\n",
      "Apple\n",
      "['My', 'name', 'is', 'Tanushree.', 'I', 'am', 'from', 'Kolkata.', 'Kolkata', 'is', 'a', 'beautiful', 'city.']\n",
      "['Capgemini is a French MNC', 'Welcome to Capgemini']\n",
      "True\n"
     ]
    }
   ],
   "source": [
    "# Question 2: Write a Python program to implement 15 functions of string.\n",
    "txt = \"My name is Tanushree. I am from Kolkata. Kolkata is a beautiful city.\"\n",
    "str1 = txt.lower() #converts the string to lower case\n",
    "print(str1)\n",
    "str2=txt.upper()  #converts the string to upper case\n",
    "print(str2)\n",
    "str3=txt.isupper() #checks whether the string is in upper case or not and returns TRUE or FALSE\n",
    "print(str3)\n",
    "str4=txt.islower() #checks whether the string is in lower case or not and returns TRUE or FALSE\n",
    "print(str4)\n",
    "str5=txt.endswith(\".\") #checks whether the string is ending with any special character or not\n",
    "print(str5)\n",
    "str6= txt.count(\"Kolkata\") #counts the number of times the mentioned word has occured\n",
    "print(str6)\n",
    "str7=txt.center(100) # This will center align the string with respect with the character mentioned\n",
    "print(str7)\n",
    "str8=txt.find(\"Kolkata\") # Find the specific word in the sentence and returns its position\n",
    "print(str8)\n",
    "str9= \"My name is {}, I'm {}\".format('Tanu',26) # The format function formats the string as specified\n",
    "print(str9)\n",
    "str10=\".\".join(txt) # Joins the string characters with the specified value mentioned\n",
    "print(str10)\n",
    "str11=txt.lstrip(\"My name is Tanushree.\") # Removes any leading characters from left\n",
    "print(str11)\n",
    "str12=\"Apple,,,aws\" # Removes any character from right\n",
    "x=str12.rstrip(\",aws\")\n",
    "print(x)\n",
    "str13=txt.split() # Splits a string into list\n",
    "print(str13)\n",
    "str14=\"Capgemini is a French MNC\\nWelcome to Capgemini\"\n",
    "y=str14.splitlines() # Splits the string into list but at the line break.\n",
    "print(y)\n",
    "str15=txt.startswith(\"My\") #Returs TRUE or FALSE depending on whether the string begins with the mentioned character or word\n",
    "print(str15)"
   ]
  },
  {
   "cell_type": "code",
   "execution_count": 3,
   "metadata": {},
   "outputs": [
    {
     "name": "stdout",
     "output_type": "stream",
     "text": [
      "Enter a string:listen\n",
      "The string is not palindrom\n",
      "Enter the 2nd string:silent\n",
      "The strings are Anagram\n"
     ]
    }
   ],
   "source": [
    "# Question 3: Write a Python program to check if the given string is a Palindrome or Anagram or None of them. Display the message accordingly to the user\n",
    "str1=input(\"Enter a string:\")\n",
    "if str1==str1[::-1]:\n",
    "    print(\"The string is a palindrom\")\n",
    "else:\n",
    "    print(\"The string is not palindrom\")\n",
    "str2=input(\"Enter the 2nd string:\")\n",
    "if sorted(str1)==sorted(str2):\n",
    "    print(\"The strings are Anagram\")\n",
    "else:\n",
    "    print(\"The strings are not Anagram\")"
   ]
  },
  {
   "cell_type": "code",
   "execution_count": 26,
   "metadata": {},
   "outputs": [
    {
     "name": "stdout",
     "output_type": "stream",
     "text": [
      "tanushree.mukherjee@gmail.com\n",
      "tanushree.mukherjeegmail.com\n",
      "tanushree.mukherjeegmail.com\n",
      "tanushree.mukherjeegmail.com\n",
      "tanushree.mukherjeegmail.com\n",
      "tanushree.mukherjeegmail.com\n",
      "tanushree.mukherjeegmail.com\n",
      "tanushree.mukherjeegmail.com\n",
      "tanushree.mukherjeegmail.com\n",
      "tanushree.mukherjeegmail.com\n",
      "tanushree.mukherjeegmail.com\n",
      "tanushree.mukherjeegmail.com\n",
      "tanushree.mukherjeegmail.com\n",
      "tanushree.mukherjeegmail.com\n",
      "tanushree.mukherjeegmail.com\n",
      "tanushree.mukherjeegmail.com\n",
      "tanushree.mukherjeegmail.com\n",
      "tanushree.mukherjeegmail.com\n",
      "tanushree.mukherjeegmail.com\n",
      "tanushree.mukherjeegmail.com\n",
      "tanushree.mukherjeegmail.com\n",
      "tanushree.mukherjeegmail.com\n",
      "tanushreemukherjeegmailcom\n"
     ]
    }
   ],
   "source": [
    "# Question 4: Write a Python's user-defined function that removes all the additional characters from the string and convert it finally to lower case using built-in lower().\n",
    "def func():\n",
    "    chars=[';','@','!','#','%',':','^','&','*','(',')','{','[','}',']','=','-','_','/','?','}','|','.']\n",
    "    str1=\"tanushree.mukherjee@gmail.com\"\n",
    "    for i in chars:\n",
    "        str1=str1.replace(i,\"\")  # I am not understanding where the code is going wrong. Only the last output is correct. \n",
    "        print(str1)        \n",
    "func()                                     "
   ]
  },
  {
   "cell_type": "code",
   "execution_count": 27,
   "metadata": {},
   "outputs": [
    {
     "name": "stdout",
     "output_type": "stream",
     "text": [
      "tanucapgeminicom\n"
     ]
    }
   ],
   "source": [
    "def abc():\n",
    "    chars=['@','#','.']\n",
    "    str1='tanu@capgemini.com'\n",
    "    for i in chars:                           #Checked the code in context with the previous code.\n",
    "        str1=str1.replace(i,\"\")\n",
    "    print(str1)  \n",
    "abc()    "
   ]
  },
  {
   "cell_type": "code",
   "execution_count": null,
   "metadata": {},
   "outputs": [],
   "source": []
  }
 ],
 "metadata": {
  "kernelspec": {
   "display_name": "Python 3",
   "language": "python",
   "name": "python3"
  },
  "language_info": {
   "codemirror_mode": {
    "name": "ipython",
    "version": 3
   },
   "file_extension": ".py",
   "mimetype": "text/x-python",
   "name": "python",
   "nbconvert_exporter": "python",
   "pygments_lexer": "ipython3",
   "version": "3.6.5"
  }
 },
 "nbformat": 4,
 "nbformat_minor": 2
}
